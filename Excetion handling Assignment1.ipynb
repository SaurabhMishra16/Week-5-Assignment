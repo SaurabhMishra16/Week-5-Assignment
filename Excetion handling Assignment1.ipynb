{
 "cells": [
  {
   "cell_type": "markdown",
   "id": "a241cb34-6594-4b1b-a9c5-ccb5c8ac6630",
   "metadata": {},
   "source": [
    "Q1. What is an Exception in python? Write the difference between Exceptions and syntax errors."
   ]
  },
  {
   "cell_type": "markdown",
   "id": "6865a41f-ef3f-4616-9ad7-e70661541db3",
   "metadata": {},
   "source": [
    "Exception is an event which is occur during execution of program and distrupt normal flow of the program's instruction"
   ]
  },
  {
   "cell_type": "markdown",
   "id": "4bf88146-81a4-403a-bb89-8f777e9bea30",
   "metadata": {},
   "source": [
    "Exceptions: An error which will intrupt flow of the program instruction that is called exceptions\n",
    "syntax error: When the proper syantax of the language is not followed then syntax error occurs\n"
   ]
  },
  {
   "cell_type": "markdown",
   "id": "5c013b18-9cde-465e-adc9-1d7e09157c05",
   "metadata": {},
   "source": [
    "Q2. What happens when an exception is not handled? Explain with an example."
   ]
  },
  {
   "cell_type": "markdown",
   "id": "bf5c6f4e-5041-4b46-9b26-0e0cb163653d",
   "metadata": {},
   "source": [
    "When an exception will not handle by the programmer then crash the program."
   ]
  },
  {
   "cell_type": "code",
   "execution_count": 2,
   "id": "caafe374-fafd-4a3b-b506-e1da6a9db793",
   "metadata": {},
   "outputs": [
    {
     "ename": "ZeroDivisionError",
     "evalue": "division by zero",
     "output_type": "error",
     "traceback": [
      "\u001b[0;31m---------------------------------------------------------------------------\u001b[0m",
      "\u001b[0;31mZeroDivisionError\u001b[0m                         Traceback (most recent call last)",
      "Cell \u001b[0;32mIn[2], line 6\u001b[0m\n\u001b[1;32m      4\u001b[0m logging\u001b[38;5;241m.\u001b[39mbasicConfig(filename \u001b[38;5;241m=\u001b[39m \u001b[38;5;124m'\u001b[39m\u001b[38;5;124mrecord.txt\u001b[39m\u001b[38;5;124m'\u001b[39m,level \u001b[38;5;241m=\u001b[39m logging\u001b[38;5;241m.\u001b[39mDEBUG)\n\u001b[1;32m      5\u001b[0m \u001b[38;5;66;03m# it produce division error \u001b[39;00m\n\u001b[0;32m----> 6\u001b[0m logging\u001b[38;5;241m.\u001b[39minfo(\u001b[43ma\u001b[49m\u001b[38;5;241;43m/\u001b[39;49m\u001b[43mb\u001b[49m)\n\u001b[1;32m      7\u001b[0m logging\u001b[38;5;241m.\u001b[39mclose()\n",
      "\u001b[0;31mZeroDivisionError\u001b[0m: division by zero"
     ]
    }
   ],
   "source": [
    "import logging\n",
    "a = 10\n",
    "b = 0\n",
    "logging.basicConfig(filename = 'record.txt',level = logging.DEBUG)\n",
    "# it produce division error \n",
    "logging.info(a/b)\n",
    "logging.close()"
   ]
  },
  {
   "cell_type": "markdown",
   "id": "eb14c30e-1a58-4afd-a535-d9a7a7816137",
   "metadata": {},
   "source": [
    "Q3. Which Python statement are used to catch and handle exceptions? Explain with an example."
   ]
  },
  {
   "cell_type": "markdown",
   "id": "46ce874d-f2b5-4c29-824e-b9987d4b2f50",
   "metadata": {},
   "source": [
    "try and except block in python is used to catch and handle exceptions."
   ]
  },
  {
   "cell_type": "code",
   "execution_count": 15,
   "id": "2f5a853a-1103-49f4-a6ec-d4b4415da1aa",
   "metadata": {},
   "outputs": [
    {
     "name": "stdout",
     "output_type": "stream",
     "text": [
      "Exception is [Errno 2] No such file or directory: 'test.txt'\n"
     ]
    }
   ],
   "source": [
    "import logging\n",
    "logging.basicConfig(filename = 'record.txt', level = logging.DEBUG)\n",
    "\n",
    "try:\n",
    "    f = open('test.txt','r')\n",
    "    f.write('This is my exception Assignment')\n",
    "except Exception as e:\n",
    "    logging.info(f'Exception is {e}')\n",
    "    print(f'Exception is {e}')"
   ]
  },
  {
   "cell_type": "markdown",
   "id": "0ecf09b0-3de3-4ebe-b4c1-048fc06e5b7f",
   "metadata": {},
   "source": [
    "Q4. Explain with Example:\n",
    "a. try and else\n",
    "b. finally\n",
    "c. raise"
   ]
  },
  {
   "cell_type": "markdown",
   "id": "5aa501bd-1430-41c9-ae1a-45166075d384",
   "metadata": {},
   "source": [
    "1- try and else- Try block executes the main program where exceptions to be occurs and else block will execute when try block has no exceptions. "
   ]
  },
  {
   "cell_type": "code",
   "execution_count": 16,
   "id": "39068df3-c361-480b-9b77-ed90594ab2d3",
   "metadata": {},
   "outputs": [
    {
     "name": "stdout",
     "output_type": "stream",
     "text": [
      "try block sucessfully executed\n"
     ]
    }
   ],
   "source": [
    "import logging\n",
    "\n",
    "logging.basicConfig(filename = 'record.txt', level= logging.DEBUG)\n",
    "\n",
    "a = 10\n",
    "b = 20\n",
    "\n",
    "try:\n",
    "    if b > a:\n",
    "        logging.info('b is greater than a')\n",
    "    else:\n",
    "        logging.info('a is greater than b')\n",
    "except Exception as e:\n",
    "    logging.info(f'Error is  {e}')\n",
    "else:\n",
    "    logging.info('try block successfully executed')\n",
    "    print('try block sucessfully executed')"
   ]
  },
  {
   "cell_type": "markdown",
   "id": "1624e664-aa18-4faf-8c51-e5cbe30f54de",
   "metadata": {},
   "source": [
    "2- finally:- finally block is used for compulsory piece of code if try or except block work or not."
   ]
  },
  {
   "cell_type": "code",
   "execution_count": 17,
   "id": "fdfc65be-c363-4919-9868-cf6f8885cada",
   "metadata": {},
   "outputs": [
    {
     "name": "stdout",
     "output_type": "stream",
     "text": [
      "This is finally block\n"
     ]
    }
   ],
   "source": [
    "import logging\n",
    "\n",
    "logging.basicConfig(filename = 'record.txt', level= logging.DEBUG)\n",
    "\n",
    "a = 10\n",
    "b = 20\n",
    "\n",
    "try:\n",
    "    if b > a:\n",
    "        logging.info('b is greater than a')\n",
    "    else:\n",
    "        logging.info('a is greater than b')\n",
    "except Exception as e:\n",
    "    logging.info(f'Error is  {e}')\n",
    "finally:\n",
    "    logging.info('This is finally block')\n",
    "    print('This is finally block')"
   ]
  },
  {
   "cell_type": "markdown",
   "id": "026932df-348b-4524-89f8-c00e1bc0ed09",
   "metadata": {},
   "source": [
    "raise:- The raise statement allows the programmer to force specific exception to occur."
   ]
  },
  {
   "cell_type": "code",
   "execution_count": 24,
   "id": "bb31b298-341f-4e2c-ae7c-a17698f45916",
   "metadata": {},
   "outputs": [
    {
     "name": "stdin",
     "output_type": "stream",
     "text": [
      "Please Donate.....    :   100\n"
     ]
    }
   ],
   "source": [
    "import logging\n",
    "class validate_donation(Exception):\n",
    "    def __init__(self,msg):\n",
    "        self.msg = msg\n",
    "\n",
    "def validateDonation(amount):\n",
    "    \n",
    "    if amount <= 100:\n",
    "        raise validate_donation('Donate 100 + amount')\n",
    "    else:\n",
    "        raise validate_donation('Thank you ! for Donating')\n",
    "\n",
    "logging.basicConfig(filename = 'record.txt', level = logging.DEBUG)\n",
    "\n",
    "try:\n",
    "    amt = int(input('Please Donate.....    :  '))\n",
    "    validateDonation(amt)\n",
    "except validate_donation as e :\n",
    "    logging.info(e)"
   ]
  },
  {
   "cell_type": "markdown",
   "id": "14745e8f-edb7-46b6-a206-c9a0976f654b",
   "metadata": {},
   "source": [
    "Q5. What are Custom Exception in Python? Why we do need Custom Exceptions? Explain with example."
   ]
  },
  {
   "cell_type": "markdown",
   "id": "ba82cd98-1533-4c64-ba50-2bc0d7fee9cb",
   "metadata": {},
   "source": [
    "Custom Exception :- Superclass Exception are created when a module needs tom handle serveral distinct errors. We do need custom exception because user has some defined condition if condition has fullfilled then right otherwith custom exception occur"
   ]
  },
  {
   "cell_type": "code",
   "execution_count": 27,
   "id": "9bed477c-ba39-4d9f-bffc-61214977640f",
   "metadata": {},
   "outputs": [
    {
     "name": "stdin",
     "output_type": "stream",
     "text": [
      "Please Donate.....    :   88\n"
     ]
    }
   ],
   "source": [
    "import logging\n",
    "class validate_donation(Exception):\n",
    "    def __init__(self,msg):\n",
    "        self.msg = msg\n",
    "\n",
    "def validateDonation(amount):\n",
    "    \n",
    "    if amount <= 100:\n",
    "        raise validate_donation('Donate 100 + amount')\n",
    "    else:\n",
    "        raise validate_donation('Thank you ! for Donating')\n",
    "\n",
    "logging.basicConfig(filename = 'record.txt', level = logging.DEBUG)\n",
    "\n",
    "try:\n",
    "    amt = int(input('Please Donate.....    :  '))\n",
    "    validateDonation(amt)\n",
    "except validate_donation as e :\n",
    "    logging.info(e)"
   ]
  },
  {
   "cell_type": "markdown",
   "id": "6cab2a48-240b-4f18-a8f2-c51d7fe40600",
   "metadata": {},
   "source": [
    "Q6. Create a custom exception class. Use this class to handle an exception"
   ]
  },
  {
   "cell_type": "code",
   "execution_count": 25,
   "id": "c1cb869a-50df-4e35-a0ea-893ad5f17c5e",
   "metadata": {},
   "outputs": [
    {
     "name": "stdin",
     "output_type": "stream",
     "text": [
      "Please Donate.....    :   800\n"
     ]
    }
   ],
   "source": [
    "import logging\n",
    "class validate_donation(Exception):\n",
    "    def __init__(self,msg):\n",
    "        self.msg = msg\n",
    "\n",
    "def validateDonation(amount):\n",
    "    \n",
    "    if amount <= 100:\n",
    "        raise validate_donation('Donate 100 + amount')\n",
    "    else:\n",
    "        raise validate_donation('Thank you ! for Donating')\n",
    "\n",
    "logging.basicConfig(filename = 'record.txt', level = logging.DEBUG)\n",
    "\n",
    "try:\n",
    "    amt = int(input('Please Donate.....    :  '))\n",
    "    validateDonation(amt)\n",
    "except validate_donation as e :\n",
    "    logging.info(e)"
   ]
  },
  {
   "cell_type": "code",
   "execution_count": null,
   "id": "f3a961a4-d867-460b-86a9-8f685e33d091",
   "metadata": {},
   "outputs": [],
   "source": []
  }
 ],
 "metadata": {
  "kernelspec": {
   "display_name": "Python 3 (ipykernel)",
   "language": "python",
   "name": "python3"
  },
  "language_info": {
   "codemirror_mode": {
    "name": "ipython",
    "version": 3
   },
   "file_extension": ".py",
   "mimetype": "text/x-python",
   "name": "python",
   "nbconvert_exporter": "python",
   "pygments_lexer": "ipython3",
   "version": "3.10.8"
  }
 },
 "nbformat": 4,
 "nbformat_minor": 5
}
