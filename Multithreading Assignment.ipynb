{
 "cells": [
  {
   "cell_type": "markdown",
   "id": "10bd083a-9ae3-41e5-a0dd-90d57b2e85a3",
   "metadata": {},
   "source": [
    "Q1. What is multithreading in python? Why it is used? Name the module used to handle threads in python."
   ]
  },
  {
   "cell_type": "markdown",
   "id": "b2f1e5d0-f803-4687-9030-2a37cacccc58",
   "metadata": {},
   "source": [
    "Multithreading is a threading technique in python programming to run multiple threads concurrently rapidly switching between threads with a CPU help."
   ]
  },
  {
   "cell_type": "markdown",
   "id": "2e6e3c7a-8f46-4aaa-b014-93baf00cc786",
   "metadata": {},
   "source": [
    "Multithreading is used for time saving, memory saving and effective utilization of computer system resources. multithreded applications are more responsive than other."
   ]
  },
  {
   "cell_type": "markdown",
   "id": "8a4859b6-8542-4c6d-a1c7-1d3d4e114446",
   "metadata": {},
   "source": [
    "threading module used to handle threads in python"
   ]
  },
  {
   "cell_type": "markdown",
   "id": "cca212c3-1484-4e93-a4ea-62295f0d87b2",
   "metadata": {},
   "source": [
    "Q2. Why threading module used? write the use of the following functions:-\n",
    "\n",
    "1. activeCount()\n",
    "2. currentThread()\n",
    "3. enumerate()"
   ]
  },
  {
   "cell_type": "markdown",
   "id": "22dd5bc6-47c1-484a-b17e-0a4f94a5914c",
   "metadata": {},
   "source": [
    "threading module is used for creating, controlling and managing threads in pythons\n",
    "\n",
    "1- activeCount():- In python, the method threading.active_count() from the threading  module is used for count the currently active or running threads\n",
    "\n",
    "2- currentThread():- currentThread() is an inbuilt method of the threading module, it is used to return the current thread object, which correspond to the \n",
    "caller's thread of control\n",
    "\n",
    "3- enummerate() :- The threading.enumerate() is a inbuilt method of threading module it is used to return the list of all the Thread class object which are \n",
    "currently alive."
   ]
  },
  {
   "cell_type": "markdown",
   "id": "5ade1c7c-a779-48f8-9fd9-d1dc06418e56",
   "metadata": {},
   "source": [
    "Q3. Explain the following functions:-\n",
    "1. run()\n",
    "2. start()\n",
    "3. join()\n",
    "4. isAlive()\n",
    "\n",
    "1- run() :- The .run() method execute any target function belonging to given thread object that is now active.\n",
    "\n",
    "2- start():- start() method is an inbuilt method of the Thread class of the threading module, it is used to start the thread activity\n",
    "\n",
    "3- join():- The join() method provides a way for one thread to block untill another thread has finished "
   ]
  },
  {
   "cell_type": "markdown",
   "id": "2a94e46a-d702-4d24-aa4b-cb545a7e9b6f",
   "metadata": {},
   "source": [
    "Q4. write a python program to create two threads. Threads one must print the list of square and thread two must print the list of cubes."
   ]
  },
  {
   "cell_type": "code",
   "execution_count": 6,
   "id": "a2b815a6-b2df-4205-8399-3f0cfd69cd56",
   "metadata": {},
   "outputs": [
    {
     "name": "stdout",
     "output_type": "stream",
     "text": [
      "square of the 1 is 1\n",
      "square of the 2 is 4\n",
      "square of the 3 is 9\n",
      "square of the 4 is 16\n",
      "square of the 5 is 25\n",
      "square of the 6 is 36\n",
      "square of the 7 is 49\n",
      "square of the 8 is 64\n",
      "square of the 9 is 81\n",
      "square of the 10 is 100\n",
      "cubes of the 1 is 1\n",
      "cubes of the 2 is 8\n",
      "cubes of the 3 is 27\n",
      "cubes of the 4 is 64\n",
      "cubes of the 5 is 125\n",
      "cubes of the 6 is 216\n",
      "cubes of the 7 is 343\n",
      "cubes of the 8 is 512\n",
      "cubes of the 9 is 729\n",
      "cubes of the 10 is 1000\n"
     ]
    }
   ],
   "source": [
    "# We are import threading \n",
    "import threading \n",
    "import logging \n",
    "\n",
    "# Defining Square of the list\n",
    "def square(sq):\n",
    "    logging.info(f'square of the {sq} is {sq**2}')\n",
    "    print(f'square of the {sq} is {sq**2}')\n",
    "\n",
    "# Defining cubes of the list\n",
    "def cubes(cb):\n",
    "    logging.info(f'cubes of the {cb} is {cb**3}')\n",
    "    print(f'cubes of the {cb} is {cb**3}')\n",
    "\n",
    "logging.basicConfig(filename = 'record1.txt', level = logging.DEBUG)\n",
    "list = [1,2,3,4,5,6,7,8,9,10]\n",
    "# we are creating threads\n",
    "thread1 = [threading.Thread(target = square, args = (i,)) for i in list]\n",
    "thread2 = [threading.Thread(target = cubes,args = (i,)) for i in list]\n",
    "# run threads1\n",
    "for t in thread1:\n",
    "    t.start()\n",
    "# run threds2\n",
    "for t in thread2:\n",
    "    t.start()\n",
    "\n"
   ]
  },
  {
   "cell_type": "markdown",
   "id": "42a489fd-e293-4abd-929a-c21dfdaffb2f",
   "metadata": {},
   "source": [
    "Q5. State advantages and disadvantages of multithreading"
   ]
  },
  {
   "cell_type": "markdown",
   "id": "c628eac7-2a3d-4f37-9601-fb7400cc6c5e",
   "metadata": {},
   "source": [
    "Advantages:-\n",
    "\n",
    "1-We can execute multiple tasks of an application at a time\n",
    "\n",
    "2-Reduces the complexity of a big applications\n",
    "\n",
    "3-Helps to improve the performance of an application drastically\n",
    "\n",
    "4-Utilizes the max resources of multiprocessor systems\n",
    "\n",
    "5-Better user interface in case of GUI based applications\n",
    "\n",
    "6-Reduces the development time of an application\n",
    "\n",
    "7- All the threads are independent , any unexpected exception happens in any of the thread will not lead to an application exit.\n",
    "\n",
    "\n",
    "Disadvatanges:-\n",
    "\n",
    "1- Thread synchronization is an extra over head to the developers\n",
    "\n",
    "2- Shares the common data across the threads might cause the data inconsistency or thread sync issues\n",
    "\n",
    "3- Threads blocking for resources is more common problem"
   ]
  },
  {
   "cell_type": "markdown",
   "id": "1735bcd6-6dec-4624-a55f-0459e15640aa",
   "metadata": {},
   "source": [
    "Q6. Explain deadlock and race condition.\n",
    "\n",
    "A deadlock is a concurrency failure mode where a thread or threads wait for a condition that never occurs\n",
    "\n",
    "A race condition occurs when two threads access a shared variable at the same time. The first thread reads the variable, and the second thread reads the same value from the variable."
   ]
  },
  {
   "cell_type": "code",
   "execution_count": null,
   "id": "26a9d9fc-d44e-4703-b914-65010e60178c",
   "metadata": {},
   "outputs": [],
   "source": []
  }
 ],
 "metadata": {
  "kernelspec": {
   "display_name": "Python 3 (ipykernel)",
   "language": "python",
   "name": "python3"
  },
  "language_info": {
   "codemirror_mode": {
    "name": "ipython",
    "version": 3
   },
   "file_extension": ".py",
   "mimetype": "text/x-python",
   "name": "python",
   "nbconvert_exporter": "python",
   "pygments_lexer": "ipython3",
   "version": "3.10.8"
  }
 },
 "nbformat": 4,
 "nbformat_minor": 5
}
