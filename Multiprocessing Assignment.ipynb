{
 "cells": [
  {
   "cell_type": "markdown",
   "id": "61cfd45c-d3e4-4fdc-bc90-8c1f22a9e21a",
   "metadata": {},
   "source": [
    "Q1. What is multiprocessing in python? Why is it useful? \n",
    "\n",
    "Multiprocessing in python is a built-in package that allows the system to run multiple process simultaneously. it will enable the breaking of application into smaller threads that can run independently.\n",
    "\n",
    "use- performing multiple operations for a single processor becomes challenging. As the number of processess keeps increasing, the processor will have to halt the current process and move to the next, to keep them going."
   ]
  },
  {
   "cell_type": "markdown",
   "id": "129effe2-53dc-4fb4-b915-9c285a3faa02",
   "metadata": {},
   "source": [
    "Q2. What are the differences between multiprocessing and multithreading?"
   ]
  },
  {
   "cell_type": "markdown",
   "id": "70e81a1b-3278-4912-aa75-c771f90c4c9f",
   "metadata": {},
   "source": [
    "Multiprocessing:- \n",
    "\n",
    "1- In multiprocessing, CPUs are added for increasing computing power.\n",
    "\n",
    "2- In multiprocessing, many processes are executed simultaneously\n",
    "\n",
    "3- multiprocessing are classified into symmetric and asymmetric.\n",
    "\n",
    "4- In multiprocessing, process creation is time consuming process.\n",
    "\n",
    "5- In Multiprocessing, every process owned a seprate address space\n",
    "\n",
    "Multithreading:-\n",
    "\n",
    "1- In multithreading, many threads are created of a single process for increasing computing power.\n",
    "\n",
    "2- In multithreading, many threads of a process are executed simultaneously\n",
    "\n",
    "3- Multithreading is not classified in any categories\n",
    "\n",
    "4- In multithreading  process creation is acording to economical.\n",
    "\n",
    "5- In multithreading a common address space is shared by all the threads."
   ]
  },
  {
   "cell_type": "markdown",
   "id": "902123c9-aeed-4c7e-a474-78089ff88801",
   "metadata": {},
   "source": [
    "Q3. Write a python code to create a process using the multiprocessing module"
   ]
  },
  {
   "cell_type": "code",
   "execution_count": 3,
   "id": "261c9981-32ad-433f-b8e7-8a9d4c881e04",
   "metadata": {},
   "outputs": [
    {
     "name": "stdout",
     "output_type": "stream",
     "text": [
      "This is main block\n",
      "This is show_Detail function\n"
     ]
    }
   ],
   "source": [
    "# import multiprocessing\n",
    "import multiprocessing\n",
    "import logging\n",
    "\n",
    "# Define function\n",
    "def Show_detail():\n",
    "    logging.info('This is show_Detail function')\n",
    "    print('This is show_Detail function')\n",
    "\n",
    "# creating logging\n",
    "logging.basicConfig(filename = 'record.txt', level = logging.DEBUG)\n",
    "\n",
    "# This is main program\n",
    "if __name__ == \"__main__\":\n",
    "    \n",
    "    m = multiprocessing.Process(target = Show_detail)\n",
    "    print('This is main block')\n",
    "    logging.info('This is main block')\n",
    "    # Start multiprocessing\n",
    "    m.start()\n",
    "    # join multiprocessing\n",
    "    m.join()\n",
    "    "
   ]
  },
  {
   "cell_type": "markdown",
   "id": "27659fed-740e-4f55-93b4-f6db81b91292",
   "metadata": {},
   "source": [
    "Q4. What is a multiprocessing pool in python? Why is it used?"
   ]
  },
  {
   "cell_type": "markdown",
   "id": "9c64ba00-c85e-46b1-baab-2a248a178193",
   "metadata": {},
   "source": [
    "A process pool is a programming pattern for automatically managing a pool of worker processes.\n",
    "\n",
    "A Python multiprocessing Pool can be used for parallel execution of a function across multiple input values, distributing the input data across processes.\n"
   ]
  },
  {
   "cell_type": "markdown",
   "id": "924a3916-392f-449a-8a2c-a70faddf546c",
   "metadata": {},
   "source": [
    "Q5. How can we create a pool of worker processes in python using the multiprocessing module?"
   ]
  },
  {
   "cell_type": "code",
   "execution_count": 11,
   "id": "3c51a4cb-d3c2-46d4-be77-bb2e3706f41d",
   "metadata": {},
   "outputs": [
    {
     "name": "stdout",
     "output_type": "stream",
     "text": [
      "Final output is  [1, 8, 27, 64, 125, 216, 343, 512, 729, 1000]\n"
     ]
    }
   ],
   "source": [
    "# import multiprocessing module\n",
    "import multiprocessing\n",
    "import logging\n",
    "\n",
    "# Define method for cubes\n",
    "def cubes(cb):\n",
    "    return cb**3\n",
    "\n",
    "\n",
    "# define main \n",
    "if __name__ == '__main__':\n",
    "    # define logging \n",
    "    logging.basicConfig(filename = 'record.txt', level = logging.INFO)\n",
    "    list = [1,2,3,4,5,6,7,8,9,10]\n",
    "    with multiprocessing.Pool(processes = 2) as pool:\n",
    "        out = pool.map(cubes,list)\n",
    "        print('Final output is ',out)\n",
    "        logging.info(f'final output is {out}')\n",
    "    "
   ]
  },
  {
   "cell_type": "markdown",
   "id": "c4380244-520f-4b5f-8836-d1043c8880bd",
   "metadata": {},
   "source": [
    "Q6. Write a python program to create 4 processes, each process should print a different number using the\n",
    "multiprocessing module in python."
   ]
  },
  {
   "cell_type": "code",
   "execution_count": 16,
   "id": "2f7dd6ba-bde0-4038-879b-ae2b8349a5b6",
   "metadata": {},
   "outputs": [
    {
     "name": "stdout",
     "output_type": "stream",
     "text": [
      "different number is  :: different number is  :: different number is  :: different number is  ::     2134\n",
      "\n",
      "\n",
      "\n",
      "different number is  :: different number is  :: different number is  :: different number is  ::     5768\n",
      "\n",
      "\n",
      "\n",
      "different number is  :: different number is  ::   910\n",
      "\n",
      "Final output is  [1, 8, 27, 64, 125, 216, 343, 512, 729, 1000]\n"
     ]
    }
   ],
   "source": [
    "# import multiprocessing module\n",
    "import multiprocessing\n",
    "import logging\n",
    "\n",
    "# Define method for cubes\n",
    "def cubes(cb):\n",
    "    logging.info(f'different number is  ::{cb} \\n' )\n",
    "    print('different number is  :: ', cb)\n",
    "    return cb**3\n",
    "\n",
    "\n",
    "# define main \n",
    "if __name__ == '__main__':\n",
    "    # define logging \n",
    "    logging.basicConfig(filename = 'record.txt', level = logging.INFO)\n",
    "    list = [1,2,3,4,5,6,7,8,9,10]\n",
    "    with multiprocessing.Pool(processes = 4) as pool:\n",
    "        out = pool.map(cubes,list)\n",
    "        print('Final output is ',out)\n",
    "        logging.info(f'final output is {out}')\n",
    "    "
   ]
  },
  {
   "cell_type": "code",
   "execution_count": null,
   "id": "7581451f-33f8-46dd-8ba1-a4f788878b4b",
   "metadata": {},
   "outputs": [],
   "source": []
  }
 ],
 "metadata": {
  "kernelspec": {
   "display_name": "Python 3 (ipykernel)",
   "language": "python",
   "name": "python3"
  },
  "language_info": {
   "codemirror_mode": {
    "name": "ipython",
    "version": 3
   },
   "file_extension": ".py",
   "mimetype": "text/x-python",
   "name": "python",
   "nbconvert_exporter": "python",
   "pygments_lexer": "ipython3",
   "version": "3.10.8"
  }
 },
 "nbformat": 4,
 "nbformat_minor": 5
}
